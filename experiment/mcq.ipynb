{
 "cells": [
  {
   "cell_type": "code",
   "execution_count": 1,
   "metadata": {},
   "outputs": [],
   "source": [
    "import os\n",
    "import json\n",
    "import pandas as pd\n",
    "import json"
   ]
  },
  {
   "cell_type": "code",
   "execution_count": 2,
   "metadata": {},
   "outputs": [],
   "source": [
    "from langchain.chat_models import ChatOpenAI"
   ]
  },
  {
   "cell_type": "code",
   "execution_count": 3,
   "metadata": {},
   "outputs": [
    {
     "data": {
      "text/plain": [
       "True"
      ]
     },
     "execution_count": 3,
     "metadata": {},
     "output_type": "execute_result"
    }
   ],
   "source": [
    "from dotenv import load_dotenv\n",
    "load_dotenv()"
   ]
  },
  {
   "cell_type": "code",
   "execution_count": 4,
   "metadata": {},
   "outputs": [],
   "source": [
    "KEY=os.getenv(\"OPENAI_API_KEY\")"
   ]
  },
  {
   "cell_type": "code",
   "execution_count": 5,
   "metadata": {},
   "outputs": [
    {
     "name": "stderr",
     "output_type": "stream",
     "text": [
      "c:\\Projects\\OpenAI\\mcqgen\\env\\lib\\site-packages\\langchain_core\\_api\\deprecation.py:117: LangChainDeprecationWarning: The class `langchain_community.chat_models.openai.ChatOpenAI` was deprecated in langchain-community 0.0.10 and will be removed in 0.2.0. An updated version of the class exists in the langchain-openai package and should be used instead. To use it run `pip install -U langchain-openai` and import as `from langchain_openai import ChatOpenAI`.\n",
      "  warn_deprecated(\n"
     ]
    }
   ],
   "source": [
    "llm=ChatOpenAI(openai_api_key=KEY, model_name='gpt-3.5-turbo', temperature = 0.5)"
   ]
  },
  {
   "cell_type": "code",
   "execution_count": 6,
   "metadata": {},
   "outputs": [],
   "source": [
    "from langchain.llms import OpenAI\n",
    "from langchain.prompts import PromptTemplate\n",
    "from langchain.chains import LLMChain\n",
    "from langchain.chains import SequentialChain\n",
    "from langchain.callbacks import get_openai_callback\n",
    "import PyPDF2"
   ]
  },
  {
   "cell_type": "code",
   "execution_count": 7,
   "metadata": {},
   "outputs": [],
   "source": [
    "RESPONSE_JSON = {\n",
    "    \"1\": {\n",
    "        \"mcq\": \"multiple choice question\",\n",
    "        \"options\": {\n",
    "            \"a\": \"choice here\",\n",
    "            \"b\": \"choice here\",\n",
    "            \"c\": \"choice here\",\n",
    "            \"d\": \"choice here\",\n",
    "        },\n",
    "        \"correct\": \"correct answer\",\n",
    "    },\n",
    "    \"2\": {\n",
    "        \"mcq\": \"multiple choice question\",\n",
    "        \"options\": {\n",
    "            \"a\": \"choice here\",\n",
    "            \"b\": \"choice here\",\n",
    "            \"c\": \"choice here\",\n",
    "            \"d\": \"choice here\",\n",
    "        },\n",
    "        \"correct\": \"correct answer\",\n",
    "    },\n",
    "    \"3\": {\n",
    "        \"mcq\": \"multiple choice question\",\n",
    "        \"options\": {\n",
    "            \"a\": \"choice here\",\n",
    "            \"b\": \"choice here\",\n",
    "            \"c\": \"choice here\",\n",
    "            \"d\": \"choice here\",\n",
    "        },\n",
    "        \"correct\": \"correct answer\",\n",
    "    },\n",
    "    \"4\":\n",
    "        {\n",
    "            \"three_marks_questions\": \"three_marks_questions\",\n",
    "            \"type\": \"short_answer\",\n",
    "            \"question\": \"Three marks question here\"\n",
    "        },\n",
    "    \"5\":\n",
    "        {\n",
    "            \"three_marks_questions\": \"three_marks_questions\",\n",
    "            \"type\": \"short_answer\",\n",
    "            \"question\": \"Three marks question here\"\n",
    "        },\n",
    "    \"6\": \n",
    "        {\n",
    "            \"five_marks_questions\": \"five_marks_questions\",\n",
    "            \"type\": \"long_answer\",\n",
    "            \"question\": \"Five marks question here\"\n",
    "        },\n",
    "    \"7\":\n",
    "        {\n",
    "            \"five_marks_questions\": \"five_marks_questions\",\n",
    "            \"type\": \"long_answer\",\n",
    "            \"question\": \"Five marks question here\"\n",
    "        }\n",
    "}"
   ]
  },
  {
   "cell_type": "code",
   "execution_count": 26,
   "metadata": {},
   "outputs": [],
   "source": [
    "TEMPLATE=\"\"\"\n",
    "Text: {text}\n",
    "You are an expert in creating MCQs and detailed answer questions. Given the above text, your task is to create a quiz comprising {mcq_number} multiple choice questions (MCQs), {three_marks_number} questions worth 3 marks, and {five_marks_number} questions worth 5 marks for {subject} students. Maintain a {tone} tone throughout the quiz. \n",
    "Ensure the questions are unique, relevant to the provided text, and that they accurately assess the students' understanding of the subject matter.\n",
    "Adhere to the following format in your RESPONSE_JSON below as a guide. Create {mcq_number} MCQs, {three_marks_number} questions for 3 marks, and {five_marks_number} questions for 5 marks, ensuring a comprehensive evaluation.\n",
    "\n",
    "{response_json}\n",
    "\"\"\""
   ]
  },
  {
   "cell_type": "code",
   "execution_count": 27,
   "metadata": {},
   "outputs": [],
   "source": [
    "quiz_generation_prompt = PromptTemplate(\n",
    "    input_variables=[\"text\", \"mcq_number\", \"three_marks_number\", \"five_marks_number\", \"subject\", \"tone\", \"response_json\"],\n",
    "    template=TEMPLATE\n",
    ")"
   ]
  },
  {
   "cell_type": "code",
   "execution_count": 28,
   "metadata": {},
   "outputs": [],
   "source": [
    "quiz_chain = LLMChain(llm=llm, prompt=quiz_generation_prompt, output_key=\"quiz\", verbose=True)\n"
   ]
  },
  {
   "cell_type": "code",
   "execution_count": 29,
   "metadata": {},
   "outputs": [],
   "source": [
    "TEMPLATE2 = \"\"\"\n",
    "You are an expert English grammarian and writer. Given a comprehensive quiz for {subject} students, including multiple choice questions (MCQs), questions worth 3 marks, and questions worth 5 marks, your task is to evaluate the overall complexity of the quiz. Provide a succinct complexity analysis, not exceeding 50 words. Assess whether the quiz aligns with the cognitive and analytical abilities of the intended student audience. \n",
    "\n",
    "If you find any aspects of the quiz not up to par—whether it be the content, cognitive demands, or tone—identify these issues specifically. Suggest necessary modifications to ensure the quiz questions are appropriately challenging and engaging, and adjust the tone to perfectly match the students' abilities.\n",
    "\n",
    "Content:\n",
    "{quiz}\n",
    "\n",
    "Check from an expert English Writer of the above quiz:\n",
    "\"\"\""
   ]
  },
  {
   "cell_type": "code",
   "execution_count": 30,
   "metadata": {},
   "outputs": [],
   "source": [
    "quiz_evaluation_prompt = PromptTemplate(input_variables=[\"subject\", \"quiz\"], template=TEMPLATE2)"
   ]
  },
  {
   "cell_type": "code",
   "execution_count": 31,
   "metadata": {},
   "outputs": [],
   "source": [
    "review_chain = LLMChain(llm=llm, prompt=quiz_evaluation_prompt, output_key=\"review\", verbose=True)"
   ]
  },
  {
   "cell_type": "code",
   "execution_count": 32,
   "metadata": {},
   "outputs": [],
   "source": [
    "generate_evaluate_chain = SequentialChain(\n",
    "    chains=[quiz_chain, review_chain],\n",
    "    input_variables=[\"text\", \"mcq_number\", \"three_marks_number\", \"five_marks_number\", \"subject\", \"tone\", \"response_json\"],\n",
    "    output_variables=[\"quiz\", \"review\"],\n",
    "    verbose=True\n",
    ")"
   ]
  },
  {
   "cell_type": "code",
   "execution_count": 33,
   "metadata": {},
   "outputs": [],
   "source": [
    "file_path=r\"C:\\Projects\\OpenAI\\mcqgen\\data.txt\""
   ]
  },
  {
   "cell_type": "code",
   "execution_count": 34,
   "metadata": {},
   "outputs": [],
   "source": [
    "with open(file_path, 'r') as file:\n",
    "    TEXT = file.read()"
   ]
  },
  {
   "cell_type": "code",
   "execution_count": 35,
   "metadata": {},
   "outputs": [
    {
     "name": "stdout",
     "output_type": "stream",
     "text": [
      "Biology is the scientific study of life.[1][2][3] It is a natural science with a broad scope but has several unifying themes that tie it together as a single, coherent field.[1][2][3] For instance, all organisms are made up of cells that process hereditary information encoded in genes, which can be transmitted to future generations. Another major theme is evolution, which explains the unity and diversity of life.[1][2][3] Energy processing is also important to life as it allows organisms to move, grow, and reproduce.[1][2][3] Finally, all organisms are able to regulate their own internal environments.[1][2][3][4][5]\n",
      "\n",
      "Biologists are able to study life at multiple levels of organization,[1] from the molecular biology of a cell to the anatomy and physiology of plants and animals, and evolution of populations.[1][6] Hence, there are multiple subdisciplines within biology, each defined by the nature of their research questions and the tools that they use.[7][8][9] Like other scientists, biologists use the scientific method to make observations, pose questions, generate hypotheses, perform experiments, and form conclusions about the world around them.[1]\n",
      "\n",
      "Life on Earth, which emerged more than 3.7 billion years ago,[10] is immensely diverse. Biologists have sought to study and classify the various forms of life, from prokaryotic organisms such as archaea and bacteria to eukaryotic organisms such as protists, fungi, plants, and animals. These various organisms contribute to the biodiversity of an ecosystem, where they play specialized roles in the cycling of nutrients and energy through their biophysical environment.\n"
     ]
    }
   ],
   "source": [
    "print(TEXT)"
   ]
  },
  {
   "cell_type": "code",
   "execution_count": 36,
   "metadata": {},
   "outputs": [
    {
     "data": {
      "text/plain": [
       "'{\"mcqs\": [{\"question_id\": \"1\", \"type\": \"mcq\", \"question\": \"multiple choice question\", \"options\": {\"a\": \"choice here\", \"b\": \"choice here\", \"c\": \"choice here\", \"d\": \"choice here\"}, \"correct_answer\": \"correct answer\"}, {\"question_id\": \"2\", \"type\": \"mcq\", \"question\": \"multiple choice question\", \"options\": {\"a\": \"choice here\", \"b\": \"choice here\", \"c\": \"choice here\", \"d\": \"choice here\"}, \"correct_answer\": \"correct answer\"}, {\"question_id\": \"3\", \"type\": \"mcq\", \"question\": \"multiple choice question\", \"options\": {\"a\": \"choice here\", \"b\": \"choice here\", \"c\": \"choice here\", \"d\": \"choice here\"}, \"correct_answer\": \"correct answer\"}], \"three_marks_questions\": [{\"question_id\": \"4\", \"type\": \"short_answer\", \"question\": \"Three marks question here\"}, {\"question_id\": \"5\", \"type\": \"short_answer\", \"question\": \"Three marks question here\"}], \"five_marks_questions\": [{\"question_id\": \"6\", \"type\": \"long_answer\", \"question\": \"Five marks question here\"}, {\"question_id\": \"7\", \"type\": \"long_answer\", \"question\": \"Five marks question here\"}]}'"
      ]
     },
     "execution_count": 36,
     "metadata": {},
     "output_type": "execute_result"
    }
   ],
   "source": [
    "json.dumps(RESPONSE_JSON)"
   ]
  },
  {
   "cell_type": "code",
   "execution_count": 50,
   "metadata": {},
   "outputs": [],
   "source": [
    "MCQ_NUMBER=5 \n",
    "THREE_MARKS_NUMBER = 5\n",
    "FIVE_MARKS_NUMBER = 5\n",
    "SUBJECT=\"biology\"\n",
    "TONE=\"simple\""
   ]
  },
  {
   "cell_type": "code",
   "execution_count": 51,
   "metadata": {},
   "outputs": [
    {
     "name": "stdout",
     "output_type": "stream",
     "text": [
      "\n",
      "\n",
      "\u001b[1m> Entering new SequentialChain chain...\u001b[0m\n",
      "\n",
      "\n",
      "\u001b[1m> Entering new LLMChain chain...\u001b[0m\n",
      "Prompt after formatting:\n",
      "\u001b[32;1m\u001b[1;3m\n",
      "Text: Biology is the scientific study of life.[1][2][3] It is a natural science with a broad scope but has several unifying themes that tie it together as a single, coherent field.[1][2][3] For instance, all organisms are made up of cells that process hereditary information encoded in genes, which can be transmitted to future generations. Another major theme is evolution, which explains the unity and diversity of life.[1][2][3] Energy processing is also important to life as it allows organisms to move, grow, and reproduce.[1][2][3] Finally, all organisms are able to regulate their own internal environments.[1][2][3][4][5]\n",
      "\n",
      "Biologists are able to study life at multiple levels of organization,[1] from the molecular biology of a cell to the anatomy and physiology of plants and animals, and evolution of populations.[1][6] Hence, there are multiple subdisciplines within biology, each defined by the nature of their research questions and the tools that they use.[7][8][9] Like other scientists, biologists use the scientific method to make observations, pose questions, generate hypotheses, perform experiments, and form conclusions about the world around them.[1]\n",
      "\n",
      "Life on Earth, which emerged more than 3.7 billion years ago,[10] is immensely diverse. Biologists have sought to study and classify the various forms of life, from prokaryotic organisms such as archaea and bacteria to eukaryotic organisms such as protists, fungi, plants, and animals. These various organisms contribute to the biodiversity of an ecosystem, where they play specialized roles in the cycling of nutrients and energy through their biophysical environment.\n",
      "You are an expert in creating MCQs and detailed answer questions. Given the above text, your task is to create a quiz comprising 5 multiple choice questions (MCQs), 5 questions worth 3 marks, and 5 questions worth 5 marks for biology students. Maintain a simple tone throughout the quiz. \n",
      "Ensure the questions are unique, relevant to the provided text, and that they accurately assess the students' understanding of the subject matter.\n",
      "Adhere to the following format in your RESPONSE_JSON below as a guide. Create 5 MCQs, 5 questions for 3 marks, and 5 questions for 5 marks, ensuring a comprehensive evaluation.\n",
      "\n",
      "{\"mcqs\": [{\"question_id\": \"1\", \"type\": \"mcq\", \"question\": \"multiple choice question\", \"options\": {\"a\": \"choice here\", \"b\": \"choice here\", \"c\": \"choice here\", \"d\": \"choice here\"}, \"correct_answer\": \"correct answer\"}, {\"question_id\": \"2\", \"type\": \"mcq\", \"question\": \"multiple choice question\", \"options\": {\"a\": \"choice here\", \"b\": \"choice here\", \"c\": \"choice here\", \"d\": \"choice here\"}, \"correct_answer\": \"correct answer\"}, {\"question_id\": \"3\", \"type\": \"mcq\", \"question\": \"multiple choice question\", \"options\": {\"a\": \"choice here\", \"b\": \"choice here\", \"c\": \"choice here\", \"d\": \"choice here\"}, \"correct_answer\": \"correct answer\"}], \"three_marks_questions\": [{\"question_id\": \"4\", \"type\": \"short_answer\", \"question\": \"Three marks question here\"}, {\"question_id\": \"5\", \"type\": \"short_answer\", \"question\": \"Three marks question here\"}], \"five_marks_questions\": [{\"question_id\": \"6\", \"type\": \"long_answer\", \"question\": \"Five marks question here\"}, {\"question_id\": \"7\", \"type\": \"long_answer\", \"question\": \"Five marks question here\"}]}\n",
      "\u001b[0m\n",
      "\n",
      "\u001b[1m> Finished chain.\u001b[0m\n",
      "\n",
      "\n",
      "\u001b[1m> Entering new LLMChain chain...\u001b[0m\n",
      "Prompt after formatting:\n",
      "\u001b[32;1m\u001b[1;3m\n",
      "You are an expert English grammarian and writer. Given a comprehensive quiz for biology students, including multiple choice questions (MCQs), questions worth 3 marks, and questions worth 5 marks, your task is to evaluate the overall complexity of the quiz. Provide a succinct complexity analysis, not exceeding 50 words. Assess whether the quiz aligns with the cognitive and analytical abilities of the intended student audience. \n",
      "\n",
      "If you find any aspects of the quiz not up to par—whether it be the content, cognitive demands, or tone—identify these issues specifically. Suggest necessary modifications to ensure the quiz questions are appropriately challenging and engaging, and adjust the tone to perfectly match the students' abilities.\n",
      "\n",
      "Content:\n",
      "{\n",
      "\"mcqs\": [\n",
      "{\"question_id\": \"1\", \"type\": \"mcq\", \"question\": \"What is the unifying theme in biology that explains the unity and diversity of life?\", \"options\": {\"a\": \"Evolution\", \"b\": \"Energy processing\", \"c\": \"Cellular organization\", \"d\": \"Regulation of internal environments\"}, \"correct_answer\": \"a\"},\n",
      "{\"question_id\": \"2\", \"type\": \"mcq\", \"question\": \"Which of the following is NOT a major theme in biology?\", \"options\": {\"a\": \"Energy processing\", \"b\": \"Evolution\", \"c\": \"Photosynthesis\", \"d\": \"Cellular organization\"}, \"correct_answer\": \"c\"},\n",
      "{\"question_id\": \"3\", \"type\": \"mcq\", \"question\": \"What is the primary function of genes in organisms?\", \"options\": {\"a\": \"Regulating internal environments\", \"b\": \"Processing energy\", \"c\": \"Encoding hereditary information\", \"d\": \"Facilitating evolution\"}, \"correct_answer\": \"c\"}\n",
      "],\n",
      "\"three_marks_questions\": [\n",
      "{\"question_id\": \"4\", \"type\": \"short_answer\", \"question\": \"Explain the significance of energy processing in living organisms.\"},\n",
      "{\"question_id\": \"5\", \"type\": \"short_answer\", \"question\": \"Describe the levels of organization at which biologists can study life.\"}\n",
      "],\n",
      "\"five_marks_questions\": [\n",
      "{\"question_id\": \"6\", \"type\": \"long_answer\", \"question\": \"Discuss the role of biodiversity in maintaining ecosystem stability.\"},\n",
      "{\"question_id\": \"7\", \"type\": \"long_answer\", \"question\": \"Explain how biologists use the scientific method to study life and form conclusions.\"}\n",
      "]\n",
      "}\n",
      "\n",
      "Check from an expert English Writer of the above quiz:\n",
      "\u001b[0m\n",
      "\n",
      "\u001b[1m> Finished chain.\u001b[0m\n",
      "\n",
      "\u001b[1m> Finished chain.\u001b[0m\n"
     ]
    }
   ],
   "source": [
    "with get_openai_callback() as cb:\n",
    "    response = generate_evaluate_chain(\n",
    "        {\n",
    "            \"text\": TEXT,\n",
    "            \"mcq_number\": MCQ_NUMBER,\n",
    "            \"three_marks_number\": THREE_MARKS_NUMBER,\n",
    "            \"five_marks_number\": FIVE_MARKS_NUMBER,\n",
    "            \"subject\": SUBJECT,\n",
    "            \"tone\": TONE,\n",
    "            \"response_json\": json.dumps(RESPONSE_JSON)\n",
    "        }\n",
    "    )"
   ]
  },
  {
   "cell_type": "code",
   "execution_count": 52,
   "metadata": {},
   "outputs": [
    {
     "name": "stdout",
     "output_type": "stream",
     "text": [
      "Total Tokens:1731\n",
      "Prompt Tokens:1308\n",
      "Completion Tokens:423\n",
      "Total Cost:0.002808\n"
     ]
    }
   ],
   "source": [
    "\n",
    "print(f\"Total Tokens:{cb.total_tokens}\")\n",
    "print(f\"Prompt Tokens:{cb.prompt_tokens}\")\n",
    "print(f\"Completion Tokens:{cb.completion_tokens}\")\n",
    "print(f\"Total Cost:{cb.total_cost}\")"
   ]
  },
  {
   "cell_type": "code",
   "execution_count": 53,
   "metadata": {},
   "outputs": [
    {
     "data": {
      "text/plain": [
       "{'text': 'Biology is the scientific study of life.[1][2][3] It is a natural science with a broad scope but has several unifying themes that tie it together as a single, coherent field.[1][2][3] For instance, all organisms are made up of cells that process hereditary information encoded in genes, which can be transmitted to future generations. Another major theme is evolution, which explains the unity and diversity of life.[1][2][3] Energy processing is also important to life as it allows organisms to move, grow, and reproduce.[1][2][3] Finally, all organisms are able to regulate their own internal environments.[1][2][3][4][5]\\n\\nBiologists are able to study life at multiple levels of organization,[1] from the molecular biology of a cell to the anatomy and physiology of plants and animals, and evolution of populations.[1][6] Hence, there are multiple subdisciplines within biology, each defined by the nature of their research questions and the tools that they use.[7][8][9] Like other scientists, biologists use the scientific method to make observations, pose questions, generate hypotheses, perform experiments, and form conclusions about the world around them.[1]\\n\\nLife on Earth, which emerged more than 3.7 billion years ago,[10] is immensely diverse. Biologists have sought to study and classify the various forms of life, from prokaryotic organisms such as archaea and bacteria to eukaryotic organisms such as protists, fungi, plants, and animals. These various organisms contribute to the biodiversity of an ecosystem, where they play specialized roles in the cycling of nutrients and energy through their biophysical environment.',\n",
       " 'mcq_number': 5,\n",
       " 'three_marks_number': 5,\n",
       " 'five_marks_number': 5,\n",
       " 'subject': 'biology',\n",
       " 'tone': 'simple',\n",
       " 'response_json': '{\"mcqs\": [{\"question_id\": \"1\", \"type\": \"mcq\", \"question\": \"multiple choice question\", \"options\": {\"a\": \"choice here\", \"b\": \"choice here\", \"c\": \"choice here\", \"d\": \"choice here\"}, \"correct_answer\": \"correct answer\"}, {\"question_id\": \"2\", \"type\": \"mcq\", \"question\": \"multiple choice question\", \"options\": {\"a\": \"choice here\", \"b\": \"choice here\", \"c\": \"choice here\", \"d\": \"choice here\"}, \"correct_answer\": \"correct answer\"}, {\"question_id\": \"3\", \"type\": \"mcq\", \"question\": \"multiple choice question\", \"options\": {\"a\": \"choice here\", \"b\": \"choice here\", \"c\": \"choice here\", \"d\": \"choice here\"}, \"correct_answer\": \"correct answer\"}], \"three_marks_questions\": [{\"question_id\": \"4\", \"type\": \"short_answer\", \"question\": \"Three marks question here\"}, {\"question_id\": \"5\", \"type\": \"short_answer\", \"question\": \"Three marks question here\"}], \"five_marks_questions\": [{\"question_id\": \"6\", \"type\": \"long_answer\", \"question\": \"Five marks question here\"}, {\"question_id\": \"7\", \"type\": \"long_answer\", \"question\": \"Five marks question here\"}]}',\n",
       " 'quiz': '{\\n\"mcqs\": [\\n{\"question_id\": \"1\", \"type\": \"mcq\", \"question\": \"What is the unifying theme in biology that explains the unity and diversity of life?\", \"options\": {\"a\": \"Evolution\", \"b\": \"Energy processing\", \"c\": \"Cellular organization\", \"d\": \"Regulation of internal environments\"}, \"correct_answer\": \"a\"},\\n{\"question_id\": \"2\", \"type\": \"mcq\", \"question\": \"Which of the following is NOT a major theme in biology?\", \"options\": {\"a\": \"Energy processing\", \"b\": \"Evolution\", \"c\": \"Photosynthesis\", \"d\": \"Cellular organization\"}, \"correct_answer\": \"c\"},\\n{\"question_id\": \"3\", \"type\": \"mcq\", \"question\": \"What is the primary function of genes in organisms?\", \"options\": {\"a\": \"Regulating internal environments\", \"b\": \"Processing energy\", \"c\": \"Encoding hereditary information\", \"d\": \"Facilitating evolution\"}, \"correct_answer\": \"c\"}\\n],\\n\"three_marks_questions\": [\\n{\"question_id\": \"4\", \"type\": \"short_answer\", \"question\": \"Explain the significance of energy processing in living organisms.\"},\\n{\"question_id\": \"5\", \"type\": \"short_answer\", \"question\": \"Describe the levels of organization at which biologists can study life.\"}\\n],\\n\"five_marks_questions\": [\\n{\"question_id\": \"6\", \"type\": \"long_answer\", \"question\": \"Discuss the role of biodiversity in maintaining ecosystem stability.\"},\\n{\"question_id\": \"7\", \"type\": \"long_answer\", \"question\": \"Explain how biologists use the scientific method to study life and form conclusions.\"}\\n]\\n}',\n",
       " 'review': 'The quiz presents a suitable level of complexity for biology students, covering fundamental concepts with a mix of MCQs, short-answer, and long-answer questions. However, the tone could be more engaging by incorporating real-life examples or interactive elements. To enhance cognitive engagement, consider adding more application-based questions.'}"
      ]
     },
     "execution_count": 53,
     "metadata": {},
     "output_type": "execute_result"
    }
   ],
   "source": [
    "response"
   ]
  },
  {
   "cell_type": "code",
   "execution_count": 54,
   "metadata": {},
   "outputs": [],
   "source": [
    "quiz_data_json = response['quiz']"
   ]
  },
  {
   "cell_type": "code",
   "execution_count": 55,
   "metadata": {},
   "outputs": [],
   "source": [
    "quiz_data = json.loads(quiz_data_json)"
   ]
  },
  {
   "cell_type": "code",
   "execution_count": 56,
   "metadata": {},
   "outputs": [],
   "source": [
    "questions = []"
   ]
  },
  {
   "cell_type": "code",
   "execution_count": 57,
   "metadata": {},
   "outputs": [],
   "source": [
    "for mcq in quiz_data['mcqs']:\n",
    "    questions.append({\n",
    "        'Type': 'MCQ',\n",
    "        'Question ID': mcq['question_id'],\n",
    "        'Question': mcq['question'],\n",
    "        'Options': mcq['options'],\n",
    "        'Correct Answer': mcq['correct_answer']\n",
    "    })\n",
    "\n",
    "for three_marks in quiz_data['three_marks_questions']:\n",
    "    questions.append({\n",
    "        'Type': 'Three Marks',\n",
    "        'Question ID': three_marks['question_id'],\n",
    "        'Question': three_marks['question'],\n",
    "        'Options': None,\n",
    "        'Correct Answer': None  # Assuming no correct answer field for these\n",
    "    })\n",
    "\n",
    "# Process five marks questions\n",
    "for five_marks in quiz_data['five_marks_questions']:\n",
    "    questions.append({\n",
    "        'Type': 'Five Marks',\n",
    "        'Question ID': five_marks['question_id'],\n",
    "        'Question': five_marks['question'],\n",
    "        'Options': None,\n",
    "        'Correct Answer': None  # Assuming no correct answer field for these\n",
    "    })"
   ]
  },
  {
   "cell_type": "code",
   "execution_count": 59,
   "metadata": {},
   "outputs": [
    {
     "name": "stdout",
     "output_type": "stream",
     "text": [
      "          Type Question ID                                           Question  \\\n",
      "0          MCQ           1  What is the unifying theme in biology that exp...   \n",
      "1          MCQ           2  Which of the following is NOT a major theme in...   \n",
      "2          MCQ           3  What is the primary function of genes in organ...   \n",
      "3  Three Marks           4  Explain the significance of energy processing ...   \n",
      "4  Three Marks           5  Describe the levels of organization at which b...   \n",
      "5   Five Marks           6  Discuss the role of biodiversity in maintainin...   \n",
      "6   Five Marks           7  Explain how biologists use the scientific meth...   \n",
      "\n",
      "                                             Options Correct Answer  \n",
      "0  {'a': 'Evolution', 'b': 'Energy processing', '...              a  \n",
      "1  {'a': 'Energy processing', 'b': 'Evolution', '...              c  \n",
      "2  {'a': 'Regulating internal environments', 'b':...              c  \n",
      "3                                               None           None  \n",
      "4                                               None           None  \n",
      "5                                               None           None  \n",
      "6                                               None           None  \n"
     ]
    }
   ],
   "source": [
    "df_questions = pd.DataFrame(questions)\n",
    "\n",
    "# Print the DataFrame to see the output\n",
    "print(df_questions)\n",
    "\n",
    "# Save the DataFrame to an Excel file\n",
    "df_questions.to_excel('quiz_questions.xlsx', index=False)"
   ]
  },
  {
   "cell_type": "code",
   "execution_count": null,
   "metadata": {},
   "outputs": [
    {
     "data": {
      "text/plain": [
       "'03_23_2024_18_31_36'"
      ]
     },
     "execution_count": 43,
     "metadata": {},
     "output_type": "execute_result"
    }
   ],
   "source": [
    "from datetime import datetime\n",
    "datetime.now().strftime('%m_%d_%Y_%H_%M_%S')"
   ]
  }
 ],
 "metadata": {
  "kernelspec": {
   "display_name": "Python 3",
   "language": "python",
   "name": "python3"
  },
  "language_info": {
   "codemirror_mode": {
    "name": "ipython",
    "version": 3
   },
   "file_extension": ".py",
   "mimetype": "text/x-python",
   "name": "python",
   "nbconvert_exporter": "python",
   "pygments_lexer": "ipython3",
   "version": "3.8.18"
  }
 },
 "nbformat": 4,
 "nbformat_minor": 2
}

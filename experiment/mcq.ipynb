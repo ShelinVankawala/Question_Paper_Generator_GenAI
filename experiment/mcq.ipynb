{
 "cells": [
  {
   "cell_type": "code",
   "execution_count": 91,
   "metadata": {},
   "outputs": [],
   "source": [
    "import os\n",
    "import json\n",
    "import pandas as pd\n",
    "import json"
   ]
  },
  {
   "cell_type": "code",
   "execution_count": 92,
   "metadata": {},
   "outputs": [],
   "source": [
    "from langchain.chat_models import ChatOpenAI"
   ]
  },
  {
   "cell_type": "code",
   "execution_count": 93,
   "metadata": {},
   "outputs": [
    {
     "data": {
      "text/plain": [
       "True"
      ]
     },
     "execution_count": 93,
     "metadata": {},
     "output_type": "execute_result"
    }
   ],
   "source": [
    "from dotenv import load_dotenv\n",
    "load_dotenv()"
   ]
  },
  {
   "cell_type": "code",
   "execution_count": 94,
   "metadata": {},
   "outputs": [],
   "source": [
    "KEY=os.getenv(\"OPENAI_API_KEY\")"
   ]
  },
  {
   "cell_type": "code",
   "execution_count": 95,
   "metadata": {},
   "outputs": [],
   "source": [
    "llm=ChatOpenAI(openai_api_key=KEY, model_name='gpt-3.5-turbo', temperature = 0.5)"
   ]
  },
  {
   "cell_type": "code",
   "execution_count": 96,
   "metadata": {},
   "outputs": [],
   "source": [
    "from langchain.llms import OpenAI\n",
    "from langchain.prompts import PromptTemplate\n",
    "from langchain.chains import LLMChain\n",
    "from langchain.chains import SequentialChain\n",
    "from langchain.callbacks import get_openai_callback\n",
    "import PyPDF2"
   ]
  },
  {
   "cell_type": "code",
   "execution_count": 127,
   "metadata": {},
   "outputs": [],
   "source": [
    "RESPONSE_JSON = {\n",
    "    \"1\": {\n",
    "        \"mcq\": \"multiple choice question\",\n",
    "        \"options\": {\n",
    "            \"a\": \"choice here\",\n",
    "            \"b\": \"choice here\",\n",
    "            \"c\": \"choice here\",\n",
    "            \"d\": \"choice here\",\n",
    "        },\n",
    "        \"correct\": \"correct answer\",\n",
    "    },\n",
    "    \"2\":\n",
    "        {\n",
    "            \"three_marks_questions\": \"three_marks_questions\",\n",
    "            \"type\": \"short_answer\",\n",
    "            \"question\": \"Three marks question here\"\n",
    "        },\n",
    "    \"3\": \n",
    "        {\n",
    "            \"five_marks_questions\": \"five_marks_questions\",\n",
    "            \"type\": \"long_answer\",\n",
    "            \"question\": \"Five marks question here\"\n",
    "        },\n",
    "}"
   ]
  },
  {
   "cell_type": "code",
   "execution_count": 128,
   "metadata": {},
   "outputs": [],
   "source": [
    "TEMPLATE=\"\"\"\n",
    "Text: {text}\n",
    "You are an expert in creating MCQs and detailed answer questions. Given the above text, your task is to create a quiz comprising {mcq_number} multiple choice questions (MCQs), {three_marks_number} questions worth 3 marks, and {five_marks_number} questions worth 5 marks for {subject} students. Maintain a {tone} tone throughout the quiz. \n",
    "Ensure the questions are unique, relevant to the provided text, and that they accurately assess the students' understanding of the subject matter.\n",
    "Adhere to the following format in your RESPONSE_JSON below as a guide. Create {mcq_number} MCQs, {three_marks_number} questions for 3 marks, and {five_marks_number} questions for 5 marks, ensuring a comprehensive evaluation.\n",
    "\n",
    "{response_json}\n",
    "\"\"\""
   ]
  },
  {
   "cell_type": "code",
   "execution_count": 129,
   "metadata": {},
   "outputs": [],
   "source": [
    "quiz_generation_prompt = PromptTemplate(\n",
    "    input_variables=[\"text\", \"mcq_number\", \"three_marks_number\", \"five_marks_number\", \"subject\", \"tone\", \"response_json\"],\n",
    "    template=TEMPLATE\n",
    ")"
   ]
  },
  {
   "cell_type": "code",
   "execution_count": 130,
   "metadata": {},
   "outputs": [],
   "source": [
    "quiz_chain = LLMChain(llm=llm, prompt=quiz_generation_prompt, output_key=\"quiz\", verbose=True)\n"
   ]
  },
  {
   "cell_type": "code",
   "execution_count": 131,
   "metadata": {},
   "outputs": [],
   "source": [
    "TEMPLATE2 = \"\"\"\n",
    "You are an expert English grammarian and writer. Given a comprehensive quiz for {subject} students, including multiple choice questions (MCQs), questions worth 3 marks, and questions worth 5 marks, your task is to evaluate the overall complexity of the quiz. Provide a succinct complexity analysis, not exceeding 50 words. Assess whether the quiz aligns with the cognitive and analytical abilities of the intended student audience. \n",
    "\n",
    "If you find any aspects of the quiz not up to par—whether it be the content, cognitive demands, or tone—identify these issues specifically. Suggest necessary modifications to ensure the quiz questions are appropriately challenging and engaging, and adjust the tone to perfectly match the students' abilities.\n",
    "\n",
    "Content:\n",
    "{quiz}\n",
    "\n",
    "Check from an expert English Writer of the above quiz:\n",
    "\"\"\""
   ]
  },
  {
   "cell_type": "code",
   "execution_count": 132,
   "metadata": {},
   "outputs": [],
   "source": [
    "quiz_evaluation_prompt = PromptTemplate(input_variables=[\"subject\", \"quiz\"], template=TEMPLATE2)"
   ]
  },
  {
   "cell_type": "code",
   "execution_count": 133,
   "metadata": {},
   "outputs": [],
   "source": [
    "review_chain = LLMChain(llm=llm, prompt=quiz_evaluation_prompt, output_key=\"review\", verbose=True)"
   ]
  },
  {
   "cell_type": "code",
   "execution_count": 135,
   "metadata": {},
   "outputs": [],
   "source": [
    "generate_evaluate_chain = SequentialChain(\n",
    "    chains=[quiz_chain, review_chain],\n",
    "    input_variables=[\"text\", \"mcq_number\", \"three_marks_number\", \"five_marks_number\", \"subject\", \"tone\", \"response_json\"],\n",
    "    output_variables=[\"quiz\", \"review\"],\n",
    "    verbose=True\n",
    ")"
   ]
  },
  {
   "cell_type": "code",
   "execution_count": 136,
   "metadata": {},
   "outputs": [],
   "source": [
    "file_path=r\"C:\\Projects\\OpenAI\\mcqgen\\data.txt\""
   ]
  },
  {
   "cell_type": "code",
   "execution_count": 137,
   "metadata": {},
   "outputs": [],
   "source": [
    "with open(file_path, 'r') as file:\n",
    "    TEXT = file.read()"
   ]
  },
  {
   "cell_type": "code",
   "execution_count": 138,
   "metadata": {},
   "outputs": [
    {
     "name": "stdout",
     "output_type": "stream",
     "text": [
      "Biology is the scientific study of life.[1][2][3] It is a natural science with a broad scope but has several unifying themes that tie it together as a single, coherent field.[1][2][3] For instance, all organisms are made up of cells that process hereditary information encoded in genes, which can be transmitted to future generations. Another major theme is evolution, which explains the unity and diversity of life.[1][2][3] Energy processing is also important to life as it allows organisms to move, grow, and reproduce.[1][2][3] Finally, all organisms are able to regulate their own internal environments.[1][2][3][4][5]\n",
      "\n",
      "Biologists are able to study life at multiple levels of organization,[1] from the molecular biology of a cell to the anatomy and physiology of plants and animals, and evolution of populations.[1][6] Hence, there are multiple subdisciplines within biology, each defined by the nature of their research questions and the tools that they use.[7][8][9] Like other scientists, biologists use the scientific method to make observations, pose questions, generate hypotheses, perform experiments, and form conclusions about the world around them.[1]\n",
      "\n",
      "Life on Earth, which emerged more than 3.7 billion years ago,[10] is immensely diverse. Biologists have sought to study and classify the various forms of life, from prokaryotic organisms such as archaea and bacteria to eukaryotic organisms such as protists, fungi, plants, and animals. These various organisms contribute to the biodiversity of an ecosystem, where they play specialized roles in the cycling of nutrients and energy through their biophysical environment.\n"
     ]
    }
   ],
   "source": [
    "print(TEXT)"
   ]
  },
  {
   "cell_type": "code",
   "execution_count": 139,
   "metadata": {},
   "outputs": [
    {
     "data": {
      "text/plain": [
       "'{\"1\": {\"mcq\": \"multiple choice question\", \"options\": {\"a\": \"choice here\", \"b\": \"choice here\", \"c\": \"choice here\", \"d\": \"choice here\"}, \"correct\": \"correct answer\"}, \"2\": {\"three_marks_questions\": \"three_marks_questions\", \"type\": \"short_answer\", \"question\": \"Three marks question here\"}, \"3\": {\"five_marks_questions\": \"five_marks_questions\", \"type\": \"long_answer\", \"question\": \"Five marks question here\"}}'"
      ]
     },
     "execution_count": 139,
     "metadata": {},
     "output_type": "execute_result"
    }
   ],
   "source": [
    "json.dumps(RESPONSE_JSON)"
   ]
  },
  {
   "cell_type": "code",
   "execution_count": 140,
   "metadata": {},
   "outputs": [],
   "source": [
    "MCQ_NUMBER=5 \n",
    "THREE_MARKS_NUMBER = 5\n",
    "FIVE_MARKS_NUMBER = 5\n",
    "SUBJECT=\"biology\"\n",
    "TONE=\"simple\""
   ]
  },
  {
   "cell_type": "code",
   "execution_count": 141,
   "metadata": {},
   "outputs": [
    {
     "name": "stdout",
     "output_type": "stream",
     "text": [
      "\n",
      "\n",
      "\u001b[1m> Entering new SequentialChain chain...\u001b[0m\n",
      "\n",
      "\n",
      "\u001b[1m> Entering new LLMChain chain...\u001b[0m\n",
      "Prompt after formatting:\n",
      "\u001b[32;1m\u001b[1;3m\n",
      "Text: Biology is the scientific study of life.[1][2][3] It is a natural science with a broad scope but has several unifying themes that tie it together as a single, coherent field.[1][2][3] For instance, all organisms are made up of cells that process hereditary information encoded in genes, which can be transmitted to future generations. Another major theme is evolution, which explains the unity and diversity of life.[1][2][3] Energy processing is also important to life as it allows organisms to move, grow, and reproduce.[1][2][3] Finally, all organisms are able to regulate their own internal environments.[1][2][3][4][5]\n",
      "\n",
      "Biologists are able to study life at multiple levels of organization,[1] from the molecular biology of a cell to the anatomy and physiology of plants and animals, and evolution of populations.[1][6] Hence, there are multiple subdisciplines within biology, each defined by the nature of their research questions and the tools that they use.[7][8][9] Like other scientists, biologists use the scientific method to make observations, pose questions, generate hypotheses, perform experiments, and form conclusions about the world around them.[1]\n",
      "\n",
      "Life on Earth, which emerged more than 3.7 billion years ago,[10] is immensely diverse. Biologists have sought to study and classify the various forms of life, from prokaryotic organisms such as archaea and bacteria to eukaryotic organisms such as protists, fungi, plants, and animals. These various organisms contribute to the biodiversity of an ecosystem, where they play specialized roles in the cycling of nutrients and energy through their biophysical environment.\n",
      "You are an expert in creating MCQs and detailed answer questions. Given the above text, your task is to create a quiz comprising 5 multiple choice questions (MCQs), 5 questions worth 3 marks, and 5 questions worth 5 marks for biology students. Maintain a simple tone throughout the quiz. \n",
      "Ensure the questions are unique, relevant to the provided text, and that they accurately assess the students' understanding of the subject matter.\n",
      "Adhere to the following format in your RESPONSE_JSON below as a guide. Create 5 MCQs, 5 questions for 3 marks, and 5 questions for 5 marks, ensuring a comprehensive evaluation.\n",
      "\n",
      "{\"1\": {\"mcq\": \"multiple choice question\", \"options\": {\"a\": \"choice here\", \"b\": \"choice here\", \"c\": \"choice here\", \"d\": \"choice here\"}, \"correct\": \"correct answer\"}, \"2\": {\"three_marks_questions\": \"three_marks_questions\", \"type\": \"short_answer\", \"question\": \"Three marks question here\"}, \"3\": {\"five_marks_questions\": \"five_marks_questions\", \"type\": \"long_answer\", \"question\": \"Five marks question here\"}}\n",
      "\u001b[0m\n",
      "\n",
      "\u001b[1m> Finished chain.\u001b[0m\n",
      "\n",
      "\n",
      "\u001b[1m> Entering new LLMChain chain...\u001b[0m\n",
      "Prompt after formatting:\n",
      "\u001b[32;1m\u001b[1;3m\n",
      "You are an expert English grammarian and writer. Given a comprehensive quiz for biology students, including multiple choice questions (MCQs), questions worth 3 marks, and questions worth 5 marks, your task is to evaluate the overall complexity of the quiz. Provide a succinct complexity analysis, not exceeding 50 words. Assess whether the quiz aligns with the cognitive and analytical abilities of the intended student audience. \n",
      "\n",
      "If you find any aspects of the quiz not up to par—whether it be the content, cognitive demands, or tone—identify these issues specifically. Suggest necessary modifications to ensure the quiz questions are appropriately challenging and engaging, and adjust the tone to perfectly match the students' abilities.\n",
      "\n",
      "Content:\n",
      "{\n",
      "    \"1\": {\n",
      "        \"mcq\": \"Which of the following is a unifying theme in biology?\",\n",
      "        \"options\": {\n",
      "            \"a\": \"Evolution\",\n",
      "            \"b\": \"Chemistry\",\n",
      "            \"c\": \"Physics\",\n",
      "            \"d\": \"Geology\"\n",
      "        },\n",
      "        \"correct\": \"a\"\n",
      "    },\n",
      "    \"2\": {\n",
      "        \"mcq\": \"What is the importance of energy processing in living organisms?\",\n",
      "        \"options\": {\n",
      "            \"a\": \"It allows organisms to communicate\",\n",
      "            \"b\": \"It helps organisms regulate their internal environments\",\n",
      "            \"c\": \"It enables organisms to move, grow, and reproduce\",\n",
      "            \"d\": \"It controls the genetic information in organisms\"\n",
      "        },\n",
      "        \"correct\": \"c\"\n",
      "    },\n",
      "    \"3\": {\n",
      "        \"mcq\": \"Which of the following is not a eukaryotic organism?\",\n",
      "        \"options\": {\n",
      "            \"a\": \"Protist\",\n",
      "            \"b\": \"Bacteria\",\n",
      "            \"c\": \"Plant\",\n",
      "            \"d\": \"Fungi\"\n",
      "        },\n",
      "        \"correct\": \"b\"\n",
      "    },\n",
      "    \"4\": {\n",
      "        \"mcq\": \"What is the main tool that biologists use to study life?\",\n",
      "        \"options\": {\n",
      "            \"a\": \"Microscope\",\n",
      "            \"b\": \"Calculator\",\n",
      "            \"c\": \"Telescope\",\n",
      "            \"d\": \"Compass\"\n",
      "        },\n",
      "        \"correct\": \"a\"\n",
      "    },\n",
      "    \"5\": {\n",
      "        \"mcq\": \"Which level of organization in biology involves the study of populations?\",\n",
      "        \"options\": {\n",
      "            \"a\": \"Molecular biology\",\n",
      "            \"b\": \"Physiology\",\n",
      "            \"c\": \"Ecology\",\n",
      "            \"d\": \"Anatomy\"\n",
      "        },\n",
      "        \"correct\": \"c\"\n",
      "    },\n",
      "    \"6\": {\n",
      "        \"three_marks_questions\": \"Explain the significance of evolution in the unity and diversity of life.\",\n",
      "        \"type\": \"short_answer\"\n",
      "    },\n",
      "    \"7\": {\n",
      "        \"three_marks_questions\": \"Describe the process of energy processing in living organisms and its importance.\",\n",
      "        \"type\": \"short_answer\"\n",
      "    },\n",
      "    \"8\": {\n",
      "        \"three_marks_questions\": \"Discuss the role of cells in processing hereditary information encoded in genes.\",\n",
      "        \"type\": \"short_answer\"\n",
      "    },\n",
      "    \"9\": {\n",
      "        \"three_marks_questions\": \"Explain the concept of biodiversity and its importance in an ecosystem.\",\n",
      "        \"type\": \"short_answer\"\n",
      "    },\n",
      "    \"10\": {\n",
      "        \"three_marks_questions\": \"Describe how biologists use the scientific method in their research.\",\n",
      "        \"type\": \"short_answer\"\n",
      "    },\n",
      "    \"11\": {\n",
      "        \"five_marks_questions\": \"Discuss the different subdisciplines within biology and provide examples of each.\",\n",
      "        \"type\": \"long_answer\"\n",
      "    },\n",
      "    \"12\": {\n",
      "        \"five_marks_questions\": \"Explain the process of classification of organisms in biology and its significance.\",\n",
      "        \"type\": \"long_answer\"\n",
      "    },\n",
      "    \"13\": {\n",
      "        \"five_marks_questions\": \"Describe the diversity of life on Earth and the role of various organisms in an ecosystem.\",\n",
      "        \"type\": \"long_answer\"\n",
      "    },\n",
      "    \"14\": {\n",
      "        \"five_marks_questions\": \"Discuss the concept of internal environment regulation in organisms and its importance.\",\n",
      "        \"type\": \"long_answer\"\n",
      "    },\n",
      "    \"15\": {\n",
      "        \"five_marks_questions\": \"Explain the concept of cells as the basic unit of life and their role in the functioning of organisms.\",\n",
      "        \"type\": \"long_answer\"\n",
      "    }\n",
      "}\n",
      "\n",
      "Check from an expert English Writer of the above quiz:\n",
      "\u001b[0m\n",
      "\n",
      "\u001b[1m> Finished chain.\u001b[0m\n",
      "\n",
      "\u001b[1m> Finished chain.\u001b[0m\n"
     ]
    }
   ],
   "source": [
    "with get_openai_callback() as cb:\n",
    "    response = generate_evaluate_chain(\n",
    "        {\n",
    "            \"text\": TEXT,\n",
    "            \"mcq_number\": MCQ_NUMBER,\n",
    "            \"three_marks_number\": THREE_MARKS_NUMBER,\n",
    "            \"five_marks_number\": FIVE_MARKS_NUMBER,\n",
    "            \"subject\": SUBJECT,\n",
    "            \"tone\": TONE,\n",
    "            \"response_json\": json.dumps(RESPONSE_JSON)\n",
    "        }\n",
    "    )"
   ]
  },
  {
   "cell_type": "code",
   "execution_count": 142,
   "metadata": {},
   "outputs": [
    {
     "name": "stdout",
     "output_type": "stream",
     "text": [
      "Total Tokens:2358\n",
      "Prompt Tokens:1504\n",
      "Completion Tokens:854\n",
      "Total Cost:0.0039640000000000005\n"
     ]
    }
   ],
   "source": [
    "\n",
    "print(f\"Total Tokens:{cb.total_tokens}\")\n",
    "print(f\"Prompt Tokens:{cb.prompt_tokens}\")\n",
    "print(f\"Completion Tokens:{cb.completion_tokens}\")\n",
    "print(f\"Total Cost:{cb.total_cost}\")"
   ]
  },
  {
   "cell_type": "code",
   "execution_count": 143,
   "metadata": {},
   "outputs": [
    {
     "data": {
      "text/plain": [
       "{'text': 'Biology is the scientific study of life.[1][2][3] It is a natural science with a broad scope but has several unifying themes that tie it together as a single, coherent field.[1][2][3] For instance, all organisms are made up of cells that process hereditary information encoded in genes, which can be transmitted to future generations. Another major theme is evolution, which explains the unity and diversity of life.[1][2][3] Energy processing is also important to life as it allows organisms to move, grow, and reproduce.[1][2][3] Finally, all organisms are able to regulate their own internal environments.[1][2][3][4][5]\\n\\nBiologists are able to study life at multiple levels of organization,[1] from the molecular biology of a cell to the anatomy and physiology of plants and animals, and evolution of populations.[1][6] Hence, there are multiple subdisciplines within biology, each defined by the nature of their research questions and the tools that they use.[7][8][9] Like other scientists, biologists use the scientific method to make observations, pose questions, generate hypotheses, perform experiments, and form conclusions about the world around them.[1]\\n\\nLife on Earth, which emerged more than 3.7 billion years ago,[10] is immensely diverse. Biologists have sought to study and classify the various forms of life, from prokaryotic organisms such as archaea and bacteria to eukaryotic organisms such as protists, fungi, plants, and animals. These various organisms contribute to the biodiversity of an ecosystem, where they play specialized roles in the cycling of nutrients and energy through their biophysical environment.',\n",
       " 'mcq_number': 5,\n",
       " 'three_marks_number': 5,\n",
       " 'five_marks_number': 5,\n",
       " 'subject': 'biology',\n",
       " 'tone': 'simple',\n",
       " 'response_json': '{\"1\": {\"mcq\": \"multiple choice question\", \"options\": {\"a\": \"choice here\", \"b\": \"choice here\", \"c\": \"choice here\", \"d\": \"choice here\"}, \"correct\": \"correct answer\"}, \"2\": {\"three_marks_questions\": \"three_marks_questions\", \"type\": \"short_answer\", \"question\": \"Three marks question here\"}, \"3\": {\"five_marks_questions\": \"five_marks_questions\", \"type\": \"long_answer\", \"question\": \"Five marks question here\"}}',\n",
       " 'quiz': '{\\n    \"1\": {\\n        \"mcq\": \"Which of the following is a unifying theme in biology?\",\\n        \"options\": {\\n            \"a\": \"Evolution\",\\n            \"b\": \"Chemistry\",\\n            \"c\": \"Physics\",\\n            \"d\": \"Geology\"\\n        },\\n        \"correct\": \"a\"\\n    },\\n    \"2\": {\\n        \"mcq\": \"What is the importance of energy processing in living organisms?\",\\n        \"options\": {\\n            \"a\": \"It allows organisms to communicate\",\\n            \"b\": \"It helps organisms regulate their internal environments\",\\n            \"c\": \"It enables organisms to move, grow, and reproduce\",\\n            \"d\": \"It controls the genetic information in organisms\"\\n        },\\n        \"correct\": \"c\"\\n    },\\n    \"3\": {\\n        \"mcq\": \"Which of the following is not a eukaryotic organism?\",\\n        \"options\": {\\n            \"a\": \"Protist\",\\n            \"b\": \"Bacteria\",\\n            \"c\": \"Plant\",\\n            \"d\": \"Fungi\"\\n        },\\n        \"correct\": \"b\"\\n    },\\n    \"4\": {\\n        \"mcq\": \"What is the main tool that biologists use to study life?\",\\n        \"options\": {\\n            \"a\": \"Microscope\",\\n            \"b\": \"Calculator\",\\n            \"c\": \"Telescope\",\\n            \"d\": \"Compass\"\\n        },\\n        \"correct\": \"a\"\\n    },\\n    \"5\": {\\n        \"mcq\": \"Which level of organization in biology involves the study of populations?\",\\n        \"options\": {\\n            \"a\": \"Molecular biology\",\\n            \"b\": \"Physiology\",\\n            \"c\": \"Ecology\",\\n            \"d\": \"Anatomy\"\\n        },\\n        \"correct\": \"c\"\\n    },\\n    \"6\": {\\n        \"three_marks_questions\": \"Explain the significance of evolution in the unity and diversity of life.\",\\n        \"type\": \"short_answer\"\\n    },\\n    \"7\": {\\n        \"three_marks_questions\": \"Describe the process of energy processing in living organisms and its importance.\",\\n        \"type\": \"short_answer\"\\n    },\\n    \"8\": {\\n        \"three_marks_questions\": \"Discuss the role of cells in processing hereditary information encoded in genes.\",\\n        \"type\": \"short_answer\"\\n    },\\n    \"9\": {\\n        \"three_marks_questions\": \"Explain the concept of biodiversity and its importance in an ecosystem.\",\\n        \"type\": \"short_answer\"\\n    },\\n    \"10\": {\\n        \"three_marks_questions\": \"Describe how biologists use the scientific method in their research.\",\\n        \"type\": \"short_answer\"\\n    },\\n    \"11\": {\\n        \"five_marks_questions\": \"Discuss the different subdisciplines within biology and provide examples of each.\",\\n        \"type\": \"long_answer\"\\n    },\\n    \"12\": {\\n        \"five_marks_questions\": \"Explain the process of classification of organisms in biology and its significance.\",\\n        \"type\": \"long_answer\"\\n    },\\n    \"13\": {\\n        \"five_marks_questions\": \"Describe the diversity of life on Earth and the role of various organisms in an ecosystem.\",\\n        \"type\": \"long_answer\"\\n    },\\n    \"14\": {\\n        \"five_marks_questions\": \"Discuss the concept of internal environment regulation in organisms and its importance.\",\\n        \"type\": \"long_answer\"\\n    },\\n    \"15\": {\\n        \"five_marks_questions\": \"Explain the concept of cells as the basic unit of life and their role in the functioning of organisms.\",\\n        \"type\": \"long_answer\"\\n    }\\n}',\n",
       " 'review': 'The quiz contains a mix of MCQs, 3-mark and 5-mark questions, covering foundational biology concepts. The MCQs are suitable for assessing basic knowledge, while the short and long answer questions require deeper understanding. The content aligns well with the cognitive abilities of biology students, providing a balanced challenge. However, the tone of the questions could be made more engaging by incorporating real-life examples or scenarios to enhance student interest and comprehension. Overall, the quiz is appropriately complex for its intended audience but could benefit from minor adjustments to enhance engagement.'}"
      ]
     },
     "execution_count": 143,
     "metadata": {},
     "output_type": "execute_result"
    }
   ],
   "source": [
    "response"
   ]
  },
  {
   "cell_type": "code",
   "execution_count": 144,
   "metadata": {},
   "outputs": [],
   "source": [
    "quiz_data_json = response['quiz']"
   ]
  },
  {
   "cell_type": "code",
   "execution_count": 145,
   "metadata": {},
   "outputs": [],
   "source": [
    "quiz_data = json.loads(quiz_data_json)"
   ]
  },
  {
   "cell_type": "code",
   "execution_count": 146,
   "metadata": {},
   "outputs": [
    {
     "name": "stdout",
     "output_type": "stream",
     "text": [
      "[{'Question Type': 'MCQ', 'Question': 'Which of the following is a unifying theme in biology?', 'Options': 'a: Evolution | b: Chemistry | c: Physics | d: Geology', 'Correct Answer': 'a'}, {'Question Type': 'MCQ', 'Question': 'What is the importance of energy processing in living organisms?', 'Options': 'a: It allows organisms to communicate | b: It helps organisms regulate their internal environments | c: It enables organisms to move, grow, and reproduce | d: It controls the genetic information in organisms', 'Correct Answer': 'c'}, {'Question Type': 'MCQ', 'Question': 'Which of the following is not a eukaryotic organism?', 'Options': 'a: Protist | b: Bacteria | c: Plant | d: Fungi', 'Correct Answer': 'b'}, {'Question Type': 'MCQ', 'Question': 'What is the main tool that biologists use to study life?', 'Options': 'a: Microscope | b: Calculator | c: Telescope | d: Compass', 'Correct Answer': 'a'}, {'Question Type': 'MCQ', 'Question': 'Which level of organization in biology involves the study of populations?', 'Options': 'a: Molecular biology | b: Physiology | c: Ecology | d: Anatomy', 'Correct Answer': 'c'}, {'Question Type': 'Three Marks', 'Question': 'Explain the significance of evolution in the unity and diversity of life.'}, {'Question Type': 'Three Marks', 'Question': 'Describe the process of energy processing in living organisms and its importance.'}, {'Question Type': 'Three Marks', 'Question': 'Discuss the role of cells in processing hereditary information encoded in genes.'}, {'Question Type': 'Three Marks', 'Question': 'Explain the concept of biodiversity and its importance in an ecosystem.'}, {'Question Type': 'Three Marks', 'Question': 'Describe how biologists use the scientific method in their research.'}, {'Question Type': 'Five Marks', 'Question': 'Discuss the different subdisciplines within biology and provide examples of each.'}, {'Question Type': 'Five Marks', 'Question': 'Explain the process of classification of organisms in biology and its significance.'}, {'Question Type': 'Five Marks', 'Question': 'Describe the diversity of life on Earth and the role of various organisms in an ecosystem.'}, {'Question Type': 'Five Marks', 'Question': 'Discuss the concept of internal environment regulation in organisms and its importance.'}, {'Question Type': 'Five Marks', 'Question': 'Explain the concept of cells as the basic unit of life and their role in the functioning of organisms.'}]\n"
     ]
    }
   ],
   "source": [
    "quiz_table_data = []\n",
    "\n",
    "# Process multiple choice questions\n",
    "for key, value in quiz_data.items():\n",
    "    if \"mcq\" in value:\n",
    "        mcq = value[\"mcq\"]\n",
    "        options = \" | \".join([f\"{option}: {option_value}\" for option, option_value in value[\"options\"].items()])\n",
    "        correct = value[\"correct\"]\n",
    "        quiz_table_data.append({\"Question Type\": \"MCQ\", \"Question\": mcq, \"Options\": options, \"Correct Answer\": correct})\n",
    "\n",
    "# Process three marks questions\n",
    "for key, value in quiz_data.items():\n",
    "    if \"three_marks_questions\" in value:\n",
    "        question = value[\"three_marks_questions\"]\n",
    "        quiz_table_data.append({\"Question Type\": \"Three Marks\", \"Question\": question})\n",
    "\n",
    "# Process five marks questions\n",
    "for key, value in quiz_data.items():\n",
    "    if \"five_marks_questions\" in value:\n",
    "        question = value[\"five_marks_questions\"]\n",
    "        quiz_table_data.append({\"Question Type\": \"Five Marks\", \"Question\": question})\n",
    "\n",
    "print(quiz_table_data)\n"
   ]
  },
  {
   "cell_type": "code",
   "execution_count": 148,
   "metadata": {},
   "outputs": [
    {
     "name": "stdout",
     "output_type": "stream",
     "text": [
      "   Question Type                                           Question  \\\n",
      "0            MCQ  Which of the following is a unifying theme in ...   \n",
      "1            MCQ  What is the importance of energy processing in...   \n",
      "2            MCQ  Which of the following is not a eukaryotic org...   \n",
      "3            MCQ  What is the main tool that biologists use to s...   \n",
      "4            MCQ  Which level of organization in biology involve...   \n",
      "5    Three Marks  Explain the significance of evolution in the u...   \n",
      "6    Three Marks  Describe the process of energy processing in l...   \n",
      "7    Three Marks  Discuss the role of cells in processing heredi...   \n",
      "8    Three Marks  Explain the concept of biodiversity and its im...   \n",
      "9    Three Marks  Describe how biologists use the scientific met...   \n",
      "10    Five Marks  Discuss the different subdisciplines within bi...   \n",
      "11    Five Marks  Explain the process of classification of organ...   \n",
      "12    Five Marks  Describe the diversity of life on Earth and th...   \n",
      "13    Five Marks  Discuss the concept of internal environment re...   \n",
      "14    Five Marks  Explain the concept of cells as the basic unit...   \n",
      "\n",
      "                                              Options Correct Answer  \n",
      "0   a: Evolution | b: Chemistry | c: Physics | d: ...              a  \n",
      "1   a: It allows organisms to communicate | b: It ...              c  \n",
      "2      a: Protist | b: Bacteria | c: Plant | d: Fungi              b  \n",
      "3   a: Microscope | b: Calculator | c: Telescope |...              a  \n",
      "4   a: Molecular biology | b: Physiology | c: Ecol...              c  \n",
      "5                                                 NaN            NaN  \n",
      "6                                                 NaN            NaN  \n",
      "7                                                 NaN            NaN  \n",
      "8                                                 NaN            NaN  \n",
      "9                                                 NaN            NaN  \n",
      "10                                                NaN            NaN  \n",
      "11                                                NaN            NaN  \n",
      "12                                                NaN            NaN  \n",
      "13                                                NaN            NaN  \n",
      "14                                                NaN            NaN  \n"
     ]
    }
   ],
   "source": [
    "df_questions = pd.DataFrame(quiz_table_data)\n",
    "\n",
    "# Print the DataFrame to see the output\n",
    "print(df_questions)\n",
    "\n",
    "# Save the DataFrame to an Excel file\n",
    "df_questions.to_excel('quiz_questions.xlsx', index=False)"
   ]
  },
  {
   "cell_type": "code",
   "execution_count": 150,
   "metadata": {},
   "outputs": [
    {
     "data": {
      "text/plain": [
       "'03_28_2024_18_53_00'"
      ]
     },
     "execution_count": 150,
     "metadata": {},
     "output_type": "execute_result"
    }
   ],
   "source": [
    "from datetime import datetime\n",
    "datetime.now().strftime('%m_%d_%Y_%H_%M_%S')"
   ]
  }
 ],
 "metadata": {
  "kernelspec": {
   "display_name": "Python 3",
   "language": "python",
   "name": "python3"
  },
  "language_info": {
   "codemirror_mode": {
    "name": "ipython",
    "version": 3
   },
   "file_extension": ".py",
   "mimetype": "text/x-python",
   "name": "python",
   "nbconvert_exporter": "python",
   "pygments_lexer": "ipython3",
   "version": "3.8.18"
  }
 },
 "nbformat": 4,
 "nbformat_minor": 2
}
